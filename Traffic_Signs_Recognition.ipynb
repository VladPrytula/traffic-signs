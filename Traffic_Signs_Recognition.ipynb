{
 "cells": [
  {
   "cell_type": "markdown",
   "metadata": {},
   "source": [
    "# Self-Driving Car Engineer Nanodegree\n",
    "\n",
    "## Deep Learning\n",
    "\n",
    "## Project: Build a Traffic Sign Recognition Classifier\n",
    "\n",
    "In this notebook, a template is provided for you to implement your functionality in stages which is required to successfully complete this project. If additional code is required that cannot be included in the notebook, be sure that the Python code is successfully imported and included in your submission, if necessary. Sections that begin with **'Implementation'** in the header indicate where you should begin your implementation for your project. Note that some sections of implementation are optional, and will be marked with **'Optional'** in the header.\n",
    "\n",
    "In addition to implementing code, there will be questions that you must answer which relate to the project and your implementation. Each section where you will answer a question is preceded by a **'Question'** header. Carefully read each question and provide thorough answers in the following text boxes that begin with **'Answer:'**. Your project submission will be evaluated based on your answers to each of the questions and the implementation you provide.\n",
    "\n",
    ">**Note:** Code and Markdown cells can be executed using the **Shift + Enter** keyboard shortcut. In addition, Markdown cells can be edited by typically double-clicking the cell to enter edit mode."
   ]
  },
  {
   "cell_type": "markdown",
   "metadata": {},
   "source": [
    "---\n",
    "\n",
    "## Step 1: Dataset Exploration\n",
    "\n",
    "Visualize the German Traffic Signs Dataset. This is open ended, some suggestions include: plotting traffic signs images, plotting the count of each sign, etc. Be creative!\n",
    "\n",
    "\n",
    "The pickled data is a dictionary with 4 key/value pairs:\n",
    "\n",
    "- features -> the images pixel values, (width, height, channels)\n",
    "- labels -> the label of the traffic sign\n",
    "- sizes -> the original width and height of the image, (width, height)\n",
    "- coords -> coordinates of a bounding box around the sign in the image, (x1, y1, x2, y2)"
   ]
  },
  {
   "cell_type": "code",
   "execution_count": 27,
   "metadata": {
    "collapsed": true
   },
   "outputs": [],
   "source": [
    "# Load pickled data\n",
    "import pickle\n",
    "\n",
    "# TODO: fill this in based on where you saved the training and testing data\n",
    "training_file = './train.p'\n",
    "testing_file = './test.p'\n",
    "\n",
    "with open(training_file, mode='rb') as f:\n",
    "    train = pickle.load(f)\n",
    "with open(testing_file, mode='rb') as f:\n",
    "    test = pickle.load(f)\n",
    "    \n",
    "X_train, y_train = train['features'], train['labels']\n",
    "X_test, y_test = test['features'], test['labels']"
   ]
  },
  {
   "cell_type": "code",
   "execution_count": 28,
   "metadata": {
    "collapsed": false
   },
   "outputs": [
    {
     "name": "stdout",
     "output_type": "stream",
     "text": [
      "Number of training examples = 39209\n",
      "Number of testing examples = 12630\n",
      "Image data shape = (32, 32)\n",
      "Number of classes = 43\n",
      "Starting datatype = <class 'numpy.ndarray'>\n"
     ]
    }
   ],
   "source": [
    "### To start off let's do a basic data summary.\n",
    "\n",
    "# TODO: number of training examples\n",
    "n_train = len(X_train)\n",
    "\n",
    "# TODO: number of testing examples\n",
    "n_test = len(X_test)\n",
    "\n",
    "# TODO: what's the shape of an image?\n",
    "image_shape = X_train.shape[1:3]\n",
    "\n",
    "# TODO: how many classes are in the dataset\n",
    "n_classes = max(y_train)+1\n",
    "\n",
    "print(\"Number of training examples =\", n_train)\n",
    "print(\"Number of testing examples =\", n_test)\n",
    "print(\"Image data shape =\", image_shape)\n",
    "print(\"Number of classes =\", n_classes)\n",
    "print(\"Starting datatype =\", type(X_train))"
   ]
  },
  {
   "cell_type": "code",
   "execution_count": 29,
   "metadata": {
    "collapsed": false
   },
   "outputs": [
    {
     "name": "stdout",
     "output_type": "stream",
     "text": [
      "Most common class: 2\n",
      "Least common class: 0\n",
      "270 instances of class 0\n",
      "2940 instances of class 1\n",
      "3000 instances of class 2\n",
      "1860 instances of class 3\n",
      "2640 instances of class 4\n",
      "2490 instances of class 5\n",
      "570 instances of class 6\n",
      "1890 instances of class 7\n",
      "1860 instances of class 8\n",
      "1950 instances of class 9\n",
      "2670 instances of class 10\n",
      "1740 instances of class 11\n",
      "2790 instances of class 12\n",
      "2880 instances of class 13\n",
      "1050 instances of class 14\n",
      "840 instances of class 15\n",
      "570 instances of class 16\n",
      "1470 instances of class 17\n",
      "1590 instances of class 18\n",
      "270 instances of class 19\n",
      "450 instances of class 20\n",
      "420 instances of class 21\n",
      "510 instances of class 22\n",
      "660 instances of class 23\n",
      "360 instances of class 24\n",
      "1980 instances of class 25\n",
      "780 instances of class 26\n",
      "300 instances of class 27\n",
      "690 instances of class 28\n",
      "360 instances of class 29\n",
      "600 instances of class 30\n",
      "1050 instances of class 31\n",
      "300 instances of class 32\n",
      "899 instances of class 33\n",
      "540 instances of class 34\n",
      "1590 instances of class 35\n",
      "510 instances of class 36\n",
      "270 instances of class 37\n",
      "2760 instances of class 38\n",
      "390 instances of class 39\n",
      "450 instances of class 40\n",
      "300 instances of class 41\n",
      "330 instances of class 42\n"
     ]
    }
   ],
   "source": [
    "### Data exploration visualization goes here.\n",
    "### Feel free to use as many code cells as needed.\n",
    "sign_dict = {}\n",
    "for label_sets in [y_train, y_test]:\n",
    "    for y in label_sets: \n",
    "        if y not in sign_dict:\n",
    "            sign_dict[y] = 1\n",
    "        else:\n",
    "            sign_dict[y] +=1\n",
    "\n",
    "import operator\n",
    "print(\"Most common class: %s\" % max(sign_dict.items(), key=operator.itemgetter(1))[0])\n",
    "print(\"Least common class: %s\" % min(sign_dict.items(), key=operator.itemgetter(1))[0])\n",
    "for key, value in sign_dict.items(): \n",
    "    print(\"%s instances of class %s\" % (value, key))"
   ]
  },
  {
   "cell_type": "markdown",
   "metadata": {},
   "source": [
    "----\n",
    "\n",
    "## Step 2: Design and Test a Model Architecture\n",
    "\n",
    "Design and implement a deep learning model that learns to recognize traffic signs. Train and test your model on the [German Traffic Sign Dataset](http://benchmark.ini.rub.de/?section=gtsrb&subsection=dataset).\n",
    "\n",
    "There are various aspects to consider when thinking about this problem:\n",
    "\n",
    "- Your model can be derived from a deep feedforward net or a deep convolutional network.\n",
    "- Play around preprocessing techniques (normalization, rgb to grayscale, etc)\n",
    "- Number of examples per label (some have more than others).\n",
    "- Generate fake data.\n",
    "\n",
    "Here is an example of a [published baseline model on this problem](http://yann.lecun.com/exdb/publis/pdf/sermanet-ijcnn-11.pdf). It's not required to be familiar with the approach used in the paper but, it's good practice to try to read papers like these."
   ]
  },
  {
   "cell_type": "markdown",
   "metadata": {},
   "source": [
    "### Implementation\n",
    "\n",
    "Use the code cell (or multiple code cells, if necessary) to implement the first step of your project. Once you have completed your implementation and are satisfied with the results, be sure to thoroughly answer the questions that follow."
   ]
  },
  {
   "cell_type": "code",
   "execution_count": 30,
   "metadata": {
    "collapsed": false
   },
   "outputs": [
    {
     "name": "stdout",
     "output_type": "stream",
     "text": [
      "<class 'numpy.ndarray'>\n"
     ]
    }
   ],
   "source": [
    "### Preprocess the data\n",
    "import tensorflow as tf\n",
    "import numpy as np\n",
    "\n",
    "# Min-Max scaling for greyscale image data\n",
    "def normalize(image_data):\n",
    "    \"\"\"\n",
    "    Normalize the image data \n",
    "    \"\"\"\n",
    "    return  (image_data - 255)/255\n",
    "\n",
    "\n",
    "# NOTE: Same steps are done later for other sets\n",
    "X_test_tf  = tf.squeeze(tf.image.rgb_to_grayscale(X_test))\n",
    "X_test_tf = tf.to_float(X_test_tf)\n",
    "sess = tf.Session()\n",
    "with sess.as_default() as s: X_test_np = X_test_tf.eval()\n",
    "test_features_tf  = tf.map_fn(normalize, X_test_tf)\n",
    "print(type(X_test_np))\n",
    "test_labels_tf = tf.convert_to_tensor(y_test)"
   ]
  },
  {
   "cell_type": "markdown",
   "metadata": {},
   "source": [
    "### Question 1 \n",
    "\n",
    "_Describe the techniques used to preprocess the data._"
   ]
  },
  {
   "cell_type": "markdown",
   "metadata": {},
   "source": [
    "**Answer: I did some basic normalization on the data. I converted the images to grayscale. I also zero-centered the data and gave it equal variance (per the Deep Learning slides). Additionally, I converted the labels to one-hot encoding.**"
   ]
  },
  {
   "cell_type": "code",
   "execution_count": 31,
   "metadata": {
    "collapsed": false
   },
   "outputs": [],
   "source": [
    "### Generate data additional (if you want to!)\n",
    "### TODO: If problems, DO THIS\n",
    "\n",
    "### split the data into training/validation/testing sets here.\n",
    "# Get randomized datasets for training and validation\n",
    "from sklearn.cross_validation import train_test_split\n",
    "train_features_np, valid_features_np, train_labels_np, valid_labels_np = train_test_split(\n",
    "    X_train,\n",
    "    y_train,\n",
    "    test_size=0.10,\n",
    "    random_state=832289)\n",
    "\n",
    "train_features_tf = tf.squeeze(tf.image.rgb_to_grayscale(train_features_np))\n",
    "valid_features_tf = tf.squeeze(tf.image.rgb_to_grayscale(valid_features_np))\n",
    "train_features_tf = tf.to_float(train_features_tf)\n",
    "valid_features_tf = tf.to_float(valid_features_tf)\n",
    "train_features_tf = tf.map_fn(normalize, train_features_tf)\n",
    "valid_features_tf = tf.map_fn(normalize, valid_features_tf)\n",
    "\n",
    "temp_sess = tf.Session()\n",
    "with temp_sess.as_default() as s: valid_features_np = valid_features_tf.eval()\n",
    "\n",
    "    \n",
    "# Change to float32, so it can be multiplied against the features in TensorFlow, which are float32\n",
    "train_labels = train_labels_np.astype(np.float32)\n",
    "valid_labels = valid_labels_np.astype(np.float32)"
   ]
  },
  {
   "cell_type": "markdown",
   "metadata": {},
   "source": [
    "### Question 2\n",
    "\n",
    "_Describe how you set up the training, validation and testing data for your model. If you generated additional data, why?_"
   ]
  },
  {
   "cell_type": "markdown",
   "metadata": {},
   "source": [
    "**Answer: Test data was already seperate. Shuffled the training set and divided it into training and validation (with validation being 10% of the size of the original training set) Additionally, I did the same preprocessing I had done on the test set after making the training/validation split.**"
   ]
  },
  {
   "cell_type": "code",
   "execution_count": 32,
   "metadata": {
    "collapsed": false
   },
   "outputs": [
    {
     "name": "stdout",
     "output_type": "stream",
     "text": [
      "(3921, 32, 32, 1)\n"
     ]
    }
   ],
   "source": [
    "import math\n",
    "### Define architecture here.\n",
    "num_channels = 1 # grayscale\n",
    "image_size = 32\n",
    "dropout = True\n",
    "\n",
    "#def dense_to_one_hot(labels_dense, num_classes=43):\n",
    "#    \"\"\"Convert class labels from scalars to one-hot vectors.\"\"\"\n",
    "#    num_labels = labels_dense.shape[0]\n",
    "#    index_offset = np.arange(num_labels) * num_classes\n",
    "#    labels_one_hot = np.zeros((num_labels, num_classes))\n",
    "#    labels_one_hot.flat[index_offset + labels_dense.ravel()] = 1\n",
    "#    return labels_one_hot\n",
    "\n",
    "def dense_to_one_hot(labels_dense, num_classes=43):\n",
    "        num_labels = labels_dense.shape[0]\n",
    "        index_offset = np.arange(num_labels) * num_classes\n",
    "        labels_one_hot = np.zeros((num_labels, num_classes))\n",
    "        labels_one_hot.flat[index_offset + labels_dense.ravel()] = 1\n",
    "        return labels_one_hot\n",
    "\n",
    "def reformat(dataset, labels):\n",
    "    dataset = dataset.reshape(\n",
    "      (-1, image_size, image_size, num_channels)).astype(np.float32)\n",
    "    labels = dense_to_one_hot(labels) #, n_classes).astype(np.float32) \n",
    "    #(np.arange(n_classes) == labels[:,None]).astype(np.float32)\n",
    "    return dataset, labels\n",
    "\n",
    "def conv2d(x, W):\n",
    "    return tf.nn.conv2d(x, W, \n",
    "                        strides=[1, 2, 2, 1], \n",
    "                        padding='SAME')\n",
    "\n",
    "def max_pool(x, k):\n",
    "    return tf.nn.max_pool(x, \n",
    "                          ksize=[1, k, k, 1], \n",
    "                          strides=[1, k, k, 1], \n",
    "                          padding='SAME')\n",
    "\n",
    "\n",
    "# Parameters\n",
    "display_step = 1\n",
    "\n",
    "\n",
    "#n_input = 1024  # traffic sign image data input (img shape: 32*32)\n",
    "n_classes = 43  # total classes (43 signs)\n",
    "convolutional = True\n",
    "dropout = False\n",
    "input_size = 32*32*1\n",
    "\n",
    "train_features, train_labels = reformat(train_features_np, train_labels_np)\n",
    "valid_features, valid_labels = reformat(valid_features_np, valid_labels_np)\n",
    "test_features,  test_labels  = reformat(X_test, y_test)\n",
    "print(valid_features.shape)\n",
    "test_shape = X_test_np.shape\n",
    "graph = tf.Graph()\n",
    "\n",
    "if convolutional:\n",
    "    batch_size = 100\n",
    "    patch_size = 8\n",
    "    depth = 32\n",
    "    num_hidden = 64\n",
    "\n",
    "    \n",
    "    with graph.as_default():\n",
    "        \n",
    "        # Input data.\n",
    "        graph_features = tf.placeholder(tf.float32, \n",
    "                                        shape=(None, #batch_size, \n",
    "                                               image_size, image_size, num_channels))\n",
    "        graph_labels = tf.placeholder(tf.float32, shape=(None, #batch_size, \n",
    "                                                         n_classes))\n",
    "        keep_prob = tf.placeholder(tf.float32) # for dropout\n",
    "        \n",
    "\n",
    "        # Model.\n",
    "        W_convl1 = tf.Variable(# 5x5 pixel patch, depth 3, 4 feature maps\n",
    "                     tf.truncated_normal(shape=[patch_size,patch_size,num_channels,depth], \n",
    "                                      stddev=1e-4))\n",
    "        b_convl1 = tf.constant(0.1, shape=[depth]) # 4 feature maps\n",
    "        h_convl1 = tf.nn.relu(conv2d(graph_features, W_convl1) + b_convl1)\n",
    "            \n",
    "            \n",
    "        h_pool1 = max_pool(h_convl1, 2)\n",
    "        if dropout: \n",
    "            h_pool1 = tf.nn.dropout(h_pool1, keep_prob)\n",
    "            \n",
    "        W_convl2 = tf.Variable(# 5x5 pixel patch, depth 4, 6 feature maps\n",
    "                   tf.truncated_normal(shape=[patch_size,patch_size,32,depth], #6], \n",
    "                                       stddev=1e-4))\n",
    "        b_convl2 = tf.constant(0.1, shape=[depth]) \n",
    "        h_convl2 = tf.nn.relu(conv2d(h_pool1, W_convl2) + b_convl2)\n",
    "            \n",
    "        h_pool2 = max_pool(h_convl2, 2)\n",
    "    \n",
    "        if dropout:\n",
    "            tf.nn.dropout(h_pool2, keep_prob)\n",
    "                \n",
    "        h_w = tf.Variable(\n",
    "              tf.truncated_normal(\n",
    "                  [4*W_convl2.get_shape().as_list()[-1], 1024],\n",
    "                  stddev=1.0/math.sqrt(float(input_size))), name='hidden_weights')\n",
    "\n",
    "        h_pool2 = tf.reshape(h_pool2, [-1, h_w.get_shape().as_list()[0]])\n",
    "        h_b = tf.Variable(tf.zeros([1024]),\n",
    "                              name='hidden_biases')\n",
    "        hidden = tf.nn.relu(tf.nn.bias_add(tf.matmul(h_pool2, \n",
    "                                                         h_w), h_b))\n",
    "        if dropout:\n",
    "            hidden = tf.nn.dropout(hidden, keep_prob)\n",
    "                \n",
    "        p_w = tf.Variable(\n",
    "              tf.truncated_normal( \n",
    "                  [1024, n_classes],\n",
    "                  stddev=1.0),            \n",
    "              name='output_weights')\n",
    "        p_b = tf.Variable(tf.zeros([n_classes]),\n",
    "                              name='output_biases')\n",
    "        logits = tf.add(tf.matmul(hidden, p_w), p_b)\n",
    "            \n",
    "        \n",
    "        def model_old(data):\n",
    "            conv = tf.nn.conv2d(data, layer1_weights, [1, 2, 2, 1], \n",
    "                                padding='SAME')\n",
    "            hidden = tf.nn.relu(conv + layer1_biases)\n",
    "            conv = tf.nn.conv2d(hidden, layer2_weights, [1, 2, 2, 1], \n",
    "                                padding='SAME')\n",
    "            hidden = tf.nn.relu(conv + layer2_biases)\n",
    "            shape = hidden.get_shape().as_list()\n",
    "            reshape = tf.reshape(hidden, [shape[0], shape[1] * shape[2] * shape[3]])\n",
    "            \n",
    "            hidden = tf.nn.relu(tf.matmul(reshape, layer3_weights) + layer3_biases)\n",
    "            \n",
    "            return tf.matmul(hidden, layer4_weights) + layer4_biases\n"
   ]
  },
  {
   "cell_type": "markdown",
   "metadata": {},
   "source": [
    "### Question 3\n",
    "\n",
    "_What does your final architecture look like? (Type of model, layers, sizes, connectivity, etc.)  For reference on how to build a deep neural network using TensorFlow, see [Deep Neural Network in TensorFlow\n",
    "](https://classroom.udacity.com/nanodegrees/nd013/parts/fbf77062-5703-404e-b60c-95b78b2f3f9e/modules/6df7ae49-c61c-4bb2-a23e-6527e69209ec/lessons/b516a270-8600-4f93-a0a3-20dfeabe5da6/concepts/83a3a2a2-a9bd-4b7b-95b0-eb924ab14432) from the classroom._\n"
   ]
  },
  {
   "cell_type": "markdown",
   "metadata": {},
   "source": [
    "**Answer:**"
   ]
  },
  {
   "cell_type": "code",
   "execution_count": 33,
   "metadata": {
    "collapsed": false
   },
   "outputs": [
    {
     "name": "stdout",
     "output_type": "stream",
     "text": [
      "WARNING:tensorflow:From <ipython-input-33-9a5c584643a7>:30 in <module>.: initialize_all_variables (from tensorflow.python.ops.variables) is deprecated and will be removed after 2017-03-02.\n",
      "Instructions for updating:\n",
      "Use `tf.global_variables_initializer` instead.\n",
      "Initialized\n",
      "Loss 1699.24 (step=0)\n",
      "Training Accuracy: 0.09\n",
      "Validation Accuracy: 0.0566182\n",
      "Loss nan (step=100)\n",
      "Training Accuracy: 0.0\n",
      "Validation Accuracy: 0.00535578\n",
      "Loss nan (step=200)\n",
      "Training Accuracy: 0.01\n",
      "Validation Accuracy: 0.00535578\n",
      "Loss nan (step=300)\n",
      "Training Accuracy: 0.0\n",
      "Validation Accuracy: 0.00535578\n",
      "Loss nan (step=400)\n",
      "Training Accuracy: 0.0\n",
      "Validation Accuracy: 0.00535578\n",
      "Loss nan (step=500)\n",
      "Training Accuracy: 0.01\n",
      "Validation Accuracy: 0.00535578\n",
      "Loss nan (step=600)\n",
      "Training Accuracy: 0.01\n",
      "Validation Accuracy: 0.00535578\n",
      "Loss nan (step=700)\n",
      "Training Accuracy: 0.0\n",
      "Validation Accuracy: 0.00535578\n",
      "Loss nan (step=800)\n",
      "Training Accuracy: 0.01\n",
      "Validation Accuracy: 0.00535578\n",
      "Loss nan (step=900)\n",
      "Training Accuracy: 0.0\n",
      "Validation Accuracy: 0.00535578\n",
      "Loss nan (step=1000)\n",
      "Training Accuracy: 0.01\n",
      "Validation Accuracy: 0.00535578\n",
      "Loss nan (step=1100)\n",
      "Training Accuracy: 0.02\n",
      "Validation Accuracy: 0.00535578\n",
      "Loss nan (step=1200)\n",
      "Training Accuracy: 0.0\n",
      "Validation Accuracy: 0.00535578\n",
      "Loss nan (step=1300)\n",
      "Training Accuracy: 0.0\n",
      "Validation Accuracy: 0.00535578\n",
      "Loss nan (step=1400)\n",
      "Training Accuracy: 0.0\n",
      "Validation Accuracy: 0.00535578\n",
      "Loss nan (step=1500)\n",
      "Training Accuracy: 0.0\n",
      "Validation Accuracy: 0.00535578\n",
      "Loss nan (step=1600)\n",
      "Training Accuracy: 0.02\n",
      "Validation Accuracy: 0.00535578\n",
      "Loss nan (step=1700)\n",
      "Training Accuracy: 0.01\n",
      "Validation Accuracy: 0.00535578\n",
      "Loss nan (step=1800)\n",
      "Training Accuracy: 0.01\n",
      "Validation Accuracy: 0.00535578\n",
      "Loss nan (step=1900)\n",
      "Training Accuracy: 0.03\n",
      "Validation Accuracy: 0.00535578\n",
      "Loss nan (step=2000)\n",
      "Training Accuracy: 0.01\n",
      "Validation Accuracy: 0.00535578\n",
      "Loss nan (step=2100)\n",
      "Training Accuracy: 0.0\n",
      "Validation Accuracy: 0.00535578\n",
      "Loss nan (step=2200)\n",
      "Training Accuracy: 0.0\n"
     ]
    },
    {
     "ename": "KeyboardInterrupt",
     "evalue": "",
     "output_type": "error",
     "traceback": [
      "\u001b[0;31m---------------------------------------------------------------------------\u001b[0m",
      "\u001b[0;31mKeyboardInterrupt\u001b[0m                         Traceback (most recent call last)",
      "\u001b[0;32m<ipython-input-33-9a5c584643a7>\u001b[0m in \u001b[0;36m<module>\u001b[0;34m()\u001b[0m\n\u001b[1;32m     56\u001b[0m \u001b[0;34m\u001b[0m\u001b[0m\n\u001b[1;32m     57\u001b[0m             v_acc = session.run(accuracy, feed_dict={graph_features: valid_features,\n\u001b[0;32m---> 58\u001b[0;31m                                                        graph_labels: valid_labels})\n\u001b[0m\u001b[1;32m     59\u001b[0m             \u001b[0mprint\u001b[0m\u001b[0;34m(\u001b[0m\u001b[0;34m\"Validation Accuracy: %s\"\u001b[0m \u001b[0;34m%\u001b[0m \u001b[0mv_acc\u001b[0m\u001b[0;34m)\u001b[0m\u001b[0;34m\u001b[0m\u001b[0m\n\u001b[1;32m     60\u001b[0m \u001b[0;34m\u001b[0m\u001b[0m\n",
      "\u001b[0;32m/usr/local/lib/python3.5/dist-packages/tensorflow/python/client/session.py\u001b[0m in \u001b[0;36mrun\u001b[0;34m(self, fetches, feed_dict, options, run_metadata)\u001b[0m\n\u001b[1;32m    716\u001b[0m     \u001b[0;32mtry\u001b[0m\u001b[0;34m:\u001b[0m\u001b[0;34m\u001b[0m\u001b[0m\n\u001b[1;32m    717\u001b[0m       result = self._run(None, fetches, feed_dict, options_ptr,\n\u001b[0;32m--> 718\u001b[0;31m                          run_metadata_ptr)\n\u001b[0m\u001b[1;32m    719\u001b[0m       \u001b[0;32mif\u001b[0m \u001b[0mrun_metadata\u001b[0m\u001b[0;34m:\u001b[0m\u001b[0;34m\u001b[0m\u001b[0m\n\u001b[1;32m    720\u001b[0m         \u001b[0mproto_data\u001b[0m \u001b[0;34m=\u001b[0m \u001b[0mtf_session\u001b[0m\u001b[0;34m.\u001b[0m\u001b[0mTF_GetBuffer\u001b[0m\u001b[0;34m(\u001b[0m\u001b[0mrun_metadata_ptr\u001b[0m\u001b[0;34m)\u001b[0m\u001b[0;34m\u001b[0m\u001b[0m\n",
      "\u001b[0;32m/usr/local/lib/python3.5/dist-packages/tensorflow/python/client/session.py\u001b[0m in \u001b[0;36m_run\u001b[0;34m(self, handle, fetches, feed_dict, options, run_metadata)\u001b[0m\n\u001b[1;32m    914\u001b[0m     \u001b[0;32mif\u001b[0m \u001b[0mfinal_fetches\u001b[0m \u001b[0;32mor\u001b[0m \u001b[0mfinal_targets\u001b[0m\u001b[0;34m:\u001b[0m\u001b[0;34m\u001b[0m\u001b[0m\n\u001b[1;32m    915\u001b[0m       results = self._do_run(handle, final_targets, final_fetches,\n\u001b[0;32m--> 916\u001b[0;31m                              feed_dict_string, options, run_metadata)\n\u001b[0m\u001b[1;32m    917\u001b[0m     \u001b[0;32melse\u001b[0m\u001b[0;34m:\u001b[0m\u001b[0;34m\u001b[0m\u001b[0m\n\u001b[1;32m    918\u001b[0m       \u001b[0mresults\u001b[0m \u001b[0;34m=\u001b[0m \u001b[0;34m[\u001b[0m\u001b[0;34m]\u001b[0m\u001b[0;34m\u001b[0m\u001b[0m\n",
      "\u001b[0;32m/usr/local/lib/python3.5/dist-packages/tensorflow/python/client/session.py\u001b[0m in \u001b[0;36m_do_run\u001b[0;34m(self, handle, target_list, fetch_list, feed_dict, options, run_metadata)\u001b[0m\n\u001b[1;32m    964\u001b[0m     \u001b[0;32mif\u001b[0m \u001b[0mhandle\u001b[0m \u001b[0;32mis\u001b[0m \u001b[0;32mNone\u001b[0m\u001b[0;34m:\u001b[0m\u001b[0;34m\u001b[0m\u001b[0m\n\u001b[1;32m    965\u001b[0m       return self._do_call(_run_fn, self._session, feed_dict, fetch_list,\n\u001b[0;32m--> 966\u001b[0;31m                            target_list, options, run_metadata)\n\u001b[0m\u001b[1;32m    967\u001b[0m     \u001b[0;32melse\u001b[0m\u001b[0;34m:\u001b[0m\u001b[0;34m\u001b[0m\u001b[0m\n\u001b[1;32m    968\u001b[0m       return self._do_call(_prun_fn, self._session, handle, feed_dict,\n",
      "\u001b[0;32m/usr/local/lib/python3.5/dist-packages/tensorflow/python/client/session.py\u001b[0m in \u001b[0;36m_do_call\u001b[0;34m(self, fn, *args)\u001b[0m\n\u001b[1;32m    971\u001b[0m   \u001b[0;32mdef\u001b[0m \u001b[0m_do_call\u001b[0m\u001b[0;34m(\u001b[0m\u001b[0mself\u001b[0m\u001b[0;34m,\u001b[0m \u001b[0mfn\u001b[0m\u001b[0;34m,\u001b[0m \u001b[0;34m*\u001b[0m\u001b[0margs\u001b[0m\u001b[0;34m)\u001b[0m\u001b[0;34m:\u001b[0m\u001b[0;34m\u001b[0m\u001b[0m\n\u001b[1;32m    972\u001b[0m     \u001b[0;32mtry\u001b[0m\u001b[0;34m:\u001b[0m\u001b[0;34m\u001b[0m\u001b[0m\n\u001b[0;32m--> 973\u001b[0;31m       \u001b[0;32mreturn\u001b[0m \u001b[0mfn\u001b[0m\u001b[0;34m(\u001b[0m\u001b[0;34m*\u001b[0m\u001b[0margs\u001b[0m\u001b[0;34m)\u001b[0m\u001b[0;34m\u001b[0m\u001b[0m\n\u001b[0m\u001b[1;32m    974\u001b[0m     \u001b[0;32mexcept\u001b[0m \u001b[0merrors\u001b[0m\u001b[0;34m.\u001b[0m\u001b[0mOpError\u001b[0m \u001b[0;32mas\u001b[0m \u001b[0me\u001b[0m\u001b[0;34m:\u001b[0m\u001b[0;34m\u001b[0m\u001b[0m\n\u001b[1;32m    975\u001b[0m       \u001b[0mmessage\u001b[0m \u001b[0;34m=\u001b[0m \u001b[0mcompat\u001b[0m\u001b[0;34m.\u001b[0m\u001b[0mas_text\u001b[0m\u001b[0;34m(\u001b[0m\u001b[0me\u001b[0m\u001b[0;34m.\u001b[0m\u001b[0mmessage\u001b[0m\u001b[0;34m)\u001b[0m\u001b[0;34m\u001b[0m\u001b[0m\n",
      "\u001b[0;32m/usr/local/lib/python3.5/dist-packages/tensorflow/python/client/session.py\u001b[0m in \u001b[0;36m_run_fn\u001b[0;34m(session, feed_dict, fetch_list, target_list, options, run_metadata)\u001b[0m\n\u001b[1;32m    953\u001b[0m         return tf_session.TF_Run(session, options,\n\u001b[1;32m    954\u001b[0m                                  \u001b[0mfeed_dict\u001b[0m\u001b[0;34m,\u001b[0m \u001b[0mfetch_list\u001b[0m\u001b[0;34m,\u001b[0m \u001b[0mtarget_list\u001b[0m\u001b[0;34m,\u001b[0m\u001b[0;34m\u001b[0m\u001b[0m\n\u001b[0;32m--> 955\u001b[0;31m                                  status, run_metadata)\n\u001b[0m\u001b[1;32m    956\u001b[0m \u001b[0;34m\u001b[0m\u001b[0m\n\u001b[1;32m    957\u001b[0m     \u001b[0;32mdef\u001b[0m \u001b[0m_prun_fn\u001b[0m\u001b[0;34m(\u001b[0m\u001b[0msession\u001b[0m\u001b[0;34m,\u001b[0m \u001b[0mhandle\u001b[0m\u001b[0;34m,\u001b[0m \u001b[0mfeed_dict\u001b[0m\u001b[0;34m,\u001b[0m \u001b[0mfetch_list\u001b[0m\u001b[0;34m)\u001b[0m\u001b[0;34m:\u001b[0m\u001b[0;34m\u001b[0m\u001b[0m\n",
      "\u001b[0;31mKeyboardInterrupt\u001b[0m: "
     ]
    }
   ],
   "source": [
    "learning_rate = 0.01\n",
    "reg_strength = 0.1\n",
    "\n",
    "### Train model here.\n",
    "with graph.as_default():\n",
    "    loss = (tf.reduce_mean(tf.nn.softmax_cross_entropy_with_logits(logits, graph_labels)))\n",
    "    \n",
    "    regularizers  = tf.nn.l2_loss(W_convl1) + tf.nn.l2_loss(b_convl1)\n",
    "    regularizers += tf.nn.l2_loss(W_convl2) + tf.nn.l2_loss(b_convl2)\n",
    "    regularizers += tf.nn.l2_loss(h_w) + tf.nn.l2_loss(h_b)\n",
    "    regularizers += tf.nn.l2_loss(p_w) + tf.nn.l2_loss(p_b)\n",
    "    loss += reg_strength*regularizers\n",
    "\n",
    "    # Optimizer.\n",
    "    optimizer = tf.train.GradientDescentOptimizer(learning_rate=learning_rate).minimize(loss)\n",
    "    \n",
    "    # Predictions for the training, validation, and test data.\n",
    "    prediction = tf.nn.softmax(logits)\n",
    "    \n",
    "    correct_pred = tf.equal(tf.argmax(logits, 1), \n",
    "                            tf.argmax(graph_labels, 1))\n",
    "    accuracy = tf.reduce_mean(tf.cast(correct_pred, tf.float32))\n",
    "\n",
    "\n",
    "num_steps = 40000\n",
    "do_restore = False\n",
    "prob_keep = 0.90 \n",
    "\n",
    "with tf.Session(graph=graph) as session:\n",
    "    init = tf.initialize_all_variables()\n",
    "    session.run(init)\n",
    "    \n",
    "    saver = tf.train.Saver()\n",
    "    #if do_restore:\n",
    "    #    saver.restore(sess, \"/tmp/model.ckpt\")\n",
    "    \n",
    "    print('Initialized')\n",
    "    for step in range(num_steps):\n",
    "        offset = (step * batch_size) % (train_labels.shape[0] - batch_size)\n",
    "        batch_data = train_features[offset:(offset + batch_size), :, :, :]\n",
    "        batch_labels = train_labels[offset:(offset + batch_size), :]\n",
    "        feed_dict = {\n",
    "                     graph_features : batch_data,\n",
    "                     graph_labels   : batch_labels,\n",
    "                     keep_prob      : prob_keep,\n",
    "                    } \n",
    "        _, l = session.run([optimizer, loss], feed_dict=feed_dict)\n",
    "        \n",
    "        if (step % 100 == 0):\n",
    "            print('Loss %s (step=%s)' % (l, step))\n",
    "            \n",
    "            t_acc = session.run(accuracy, feed_dict={\n",
    "                    graph_features: batch_data,\n",
    "                    graph_labels: batch_labels})     \n",
    "            print(\"Training Accuracy: %s\" % t_acc)\n",
    "                           \n",
    "            v_acc = session.run(accuracy, feed_dict={graph_features: valid_features,\n",
    "                                                       graph_labels: valid_labels})\n",
    "            print(\"Validation Accuracy: %s\" % v_acc)\n",
    "\n",
    "                           \n",
    "    test_acc = sess.run(accuracy, feed_dict={graph_features:X_test_np, \n",
    "                                             graph_labels: valid_labels})\n",
    "    print(\"Test Accuracy: %s\" % test_acc)\n",
    "                           \n",
    "                           \n",
    "    #save_path = saver.save(sess, \"/tmp/model.ckpt\")\n",
    "            "
   ]
  },
  {
   "cell_type": "markdown",
   "metadata": {},
   "source": [
    "### Question 4\n",
    "\n",
    "_How did you train your model? (Type of optimizer, batch size, epochs, hyperparameters, etc.)_\n"
   ]
  },
  {
   "cell_type": "markdown",
   "metadata": {},
   "source": [
    "**Answer:**"
   ]
  },
  {
   "cell_type": "markdown",
   "metadata": {},
   "source": [
    "### Question 5\n",
    "\n",
    "\n",
    "_What approach did you take in coming up with a solution to this problem?_"
   ]
  },
  {
   "cell_type": "markdown",
   "metadata": {},
   "source": [
    "**Answer:**"
   ]
  },
  {
   "cell_type": "markdown",
   "metadata": {},
   "source": [
    "---\n",
    "\n",
    "## Step 3: Test a Model on New Images\n",
    "\n",
    "Take several pictures of traffic signs that you find on the web or around you (at least five), and run them through your classifier on your computer to produce example results. The classifier might not recognize some local signs but it could prove interesting nonetheless.\n",
    "\n",
    "You may find `signnames.csv` useful as it contains mappings from the class id (integer) to the actual sign name."
   ]
  },
  {
   "cell_type": "markdown",
   "metadata": {},
   "source": [
    "### Implementation\n",
    "\n",
    "Use the code cell (or multiple code cells, if necessary) to implement the first step of your project. Once you have completed your implementation and are satisfied with the results, be sure to thoroughly answer the questions that follow."
   ]
  },
  {
   "cell_type": "code",
   "execution_count": null,
   "metadata": {
    "collapsed": true
   },
   "outputs": [],
   "source": [
    "### Load the images and plot them here.\n",
    "### Feel free to use as many code cells as needed."
   ]
  },
  {
   "cell_type": "markdown",
   "metadata": {},
   "source": [
    "### Question 6\n",
    "\n",
    "_Choose five candidate images of traffic signs and provide them in the report. Are there any particular qualities of the image(s) that might make classification difficult? It would be helpful to plot the images in the notebook._\n",
    "\n"
   ]
  },
  {
   "cell_type": "markdown",
   "metadata": {},
   "source": [
    "**Answer:**"
   ]
  },
  {
   "cell_type": "code",
   "execution_count": null,
   "metadata": {
    "collapsed": true
   },
   "outputs": [],
   "source": [
    "### Run the predictions here.\n",
    "### Feel free to use as many code cells as needed."
   ]
  },
  {
   "cell_type": "markdown",
   "metadata": {},
   "source": [
    "### Question 7\n",
    "\n",
    "_Is your model able to perform equally well on captured pictures or a live camera stream when compared to testing on the dataset?_\n"
   ]
  },
  {
   "cell_type": "markdown",
   "metadata": {},
   "source": [
    "**Answer:**"
   ]
  },
  {
   "cell_type": "code",
   "execution_count": null,
   "metadata": {
    "collapsed": true
   },
   "outputs": [],
   "source": [
    "### Visualize the softmax probabilities here.\n",
    "### Feel free to use as many code cells as needed."
   ]
  },
  {
   "cell_type": "markdown",
   "metadata": {},
   "source": [
    "### Question 8\n",
    "\n",
    "*Use the model's softmax probabilities to visualize the **certainty** of its predictions, [`tf.nn.top_k`](https://www.tensorflow.org/versions/r0.11/api_docs/python/nn.html#top_k) could prove helpful here. Which predictions is the model certain of? Uncertain? If the model was incorrect in its initial prediction, does the correct prediction appear in the top k? (k should be 5 at most)*\n"
   ]
  },
  {
   "cell_type": "markdown",
   "metadata": {},
   "source": [
    "**Answer:**"
   ]
  },
  {
   "cell_type": "markdown",
   "metadata": {},
   "source": [
    "### Question 9\n",
    "_If necessary, provide documentation for how an interface was built for your model to load and classify newly-acquired images._\n"
   ]
  },
  {
   "cell_type": "markdown",
   "metadata": {},
   "source": [
    "**Answer:**"
   ]
  },
  {
   "cell_type": "markdown",
   "metadata": {},
   "source": [
    "> **Note**: Once you have completed all of the code implementations and successfully answered each question above, you may finalize your work by exporting the iPython Notebook as an HTML document. You can do this by using the menu above and navigating to  \\n\",\n",
    "    \"**File -> Download as -> HTML (.html)**. Include the finished document along with this notebook as your submission."
   ]
  },
  {
   "cell_type": "code",
   "execution_count": null,
   "metadata": {
    "collapsed": true
   },
   "outputs": [],
   "source": []
  }
 ],
 "metadata": {
  "anaconda-cloud": {},
  "kernelspec": {
   "display_name": "Python 3",
   "language": "python",
   "name": "python3"
  },
  "language_info": {
   "codemirror_mode": {
    "name": "ipython",
    "version": 3
   },
   "file_extension": ".py",
   "mimetype": "text/x-python",
   "name": "python",
   "nbconvert_exporter": "python",
   "pygments_lexer": "ipython3",
   "version": "3.5.2"
  }
 },
 "nbformat": 4,
 "nbformat_minor": 1
}
